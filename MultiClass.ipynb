{
  "cells": [
    {
      "cell_type": "code",
      "execution_count": null,
      "metadata": {
        "id": "xD5Q2qnEyIlg"
      },
      "outputs": [],
      "source": [
        "import tensorflow as tf\n",
        "from tensorflow.keras import datasets, layers, models\n",
        "import matplotlib.pyplot as plt\n",
        "import numpy as np"
      ]
    },
    {
      "cell_type": "code",
      "execution_count": null,
      "metadata": {
        "colab": {
          "base_uri": "https://localhost:8080/"
        },
        "id": "uwHBBZLby6Qn",
        "outputId": "856eeef7-4ff2-4f92-b1fc-8f677002b12b"
      },
      "outputs": [
        {
          "output_type": "stream",
          "name": "stdout",
          "text": [
            "Downloading data from https://www.cs.toronto.edu/~kriz/cifar-10-python.tar.gz\n",
            "170498071/170498071 [==============================] - 3s 0us/step\n"
          ]
        },
        {
          "output_type": "execute_result",
          "data": {
            "text/plain": [
              "(50000, 32, 32, 3)"
            ]
          },
          "metadata": {},
          "execution_count": 3
        }
      ],
      "source": [
        "(X_train, y_train), (X_test,y_test) = datasets.cifar10.load_data()\n",
        "X_train.shape"
      ]
    },
    {
      "cell_type": "code",
      "execution_count": null,
      "metadata": {
        "colab": {
          "base_uri": "https://localhost:8080/"
        },
        "id": "f4H6BHW3zdTV",
        "outputId": "50100ac3-d3f3-4f70-84a3-dbacd4c314c2"
      },
      "outputs": [
        {
          "output_type": "execute_result",
          "data": {
            "text/plain": [
              "(10000, 32, 32, 3)"
            ]
          },
          "metadata": {},
          "execution_count": 4
        }
      ],
      "source": [
        "X_test.shape"
      ]
    },
    {
      "cell_type": "code",
      "execution_count": null,
      "metadata": {
        "colab": {
          "base_uri": "https://localhost:8080/"
        },
        "id": "mYum94rfz-4Z",
        "outputId": "0b41d163-8712-4313-d729-fca7ad07bbe5"
      },
      "outputs": [
        {
          "output_type": "execute_result",
          "data": {
            "text/plain": [
              "(50000, 1)"
            ]
          },
          "metadata": {},
          "execution_count": 5
        }
      ],
      "source": [
        "y_train.shape"
      ]
    },
    {
      "cell_type": "code",
      "execution_count": null,
      "metadata": {
        "colab": {
          "base_uri": "https://localhost:8080/"
        },
        "id": "6zB7AvbS0INl",
        "outputId": "3feff659-7035-4faa-fa18-823cff1e753f"
      },
      "outputs": [
        {
          "output_type": "execute_result",
          "data": {
            "text/plain": [
              "array([[[[ 59,  62,  63],\n",
              "         [ 43,  46,  45],\n",
              "         [ 50,  48,  43],\n",
              "         ...,\n",
              "         [158, 132, 108],\n",
              "         [152, 125, 102],\n",
              "         [148, 124, 103]],\n",
              "\n",
              "        [[ 16,  20,  20],\n",
              "         [  0,   0,   0],\n",
              "         [ 18,   8,   0],\n",
              "         ...,\n",
              "         [123,  88,  55],\n",
              "         [119,  83,  50],\n",
              "         [122,  87,  57]],\n",
              "\n",
              "        [[ 25,  24,  21],\n",
              "         [ 16,   7,   0],\n",
              "         [ 49,  27,   8],\n",
              "         ...,\n",
              "         [118,  84,  50],\n",
              "         [120,  84,  50],\n",
              "         [109,  73,  42]],\n",
              "\n",
              "        ...,\n",
              "\n",
              "        [[208, 170,  96],\n",
              "         [201, 153,  34],\n",
              "         [198, 161,  26],\n",
              "         ...,\n",
              "         [160, 133,  70],\n",
              "         [ 56,  31,   7],\n",
              "         [ 53,  34,  20]],\n",
              "\n",
              "        [[180, 139,  96],\n",
              "         [173, 123,  42],\n",
              "         [186, 144,  30],\n",
              "         ...,\n",
              "         [184, 148,  94],\n",
              "         [ 97,  62,  34],\n",
              "         [ 83,  53,  34]],\n",
              "\n",
              "        [[177, 144, 116],\n",
              "         [168, 129,  94],\n",
              "         [179, 142,  87],\n",
              "         ...,\n",
              "         [216, 184, 140],\n",
              "         [151, 118,  84],\n",
              "         [123,  92,  72]]],\n",
              "\n",
              "\n",
              "       [[[154, 177, 187],\n",
              "         [126, 137, 136],\n",
              "         [105, 104,  95],\n",
              "         ...,\n",
              "         [ 91,  95,  71],\n",
              "         [ 87,  90,  71],\n",
              "         [ 79,  81,  70]],\n",
              "\n",
              "        [[140, 160, 169],\n",
              "         [145, 153, 154],\n",
              "         [125, 125, 118],\n",
              "         ...,\n",
              "         [ 96,  99,  78],\n",
              "         [ 77,  80,  62],\n",
              "         [ 71,  73,  61]],\n",
              "\n",
              "        [[140, 155, 164],\n",
              "         [139, 146, 149],\n",
              "         [115, 115, 112],\n",
              "         ...,\n",
              "         [ 79,  82,  64],\n",
              "         [ 68,  70,  55],\n",
              "         [ 67,  69,  55]],\n",
              "\n",
              "        ...,\n",
              "\n",
              "        [[175, 167, 166],\n",
              "         [156, 154, 160],\n",
              "         [154, 160, 170],\n",
              "         ...,\n",
              "         [ 42,  34,  36],\n",
              "         [ 61,  53,  57],\n",
              "         [ 93,  83,  91]],\n",
              "\n",
              "        [[165, 154, 128],\n",
              "         [156, 152, 130],\n",
              "         [159, 161, 142],\n",
              "         ...,\n",
              "         [103,  93,  96],\n",
              "         [123, 114, 120],\n",
              "         [131, 121, 131]],\n",
              "\n",
              "        [[163, 148, 120],\n",
              "         [158, 148, 122],\n",
              "         [163, 156, 133],\n",
              "         ...,\n",
              "         [143, 133, 139],\n",
              "         [143, 134, 142],\n",
              "         [143, 133, 144]]],\n",
              "\n",
              "\n",
              "       [[[255, 255, 255],\n",
              "         [253, 253, 253],\n",
              "         [253, 253, 253],\n",
              "         ...,\n",
              "         [253, 253, 253],\n",
              "         [253, 253, 253],\n",
              "         [253, 253, 253]],\n",
              "\n",
              "        [[255, 255, 255],\n",
              "         [255, 255, 255],\n",
              "         [255, 255, 255],\n",
              "         ...,\n",
              "         [255, 255, 255],\n",
              "         [255, 255, 255],\n",
              "         [255, 255, 255]],\n",
              "\n",
              "        [[255, 255, 255],\n",
              "         [254, 254, 254],\n",
              "         [254, 254, 254],\n",
              "         ...,\n",
              "         [254, 254, 254],\n",
              "         [254, 254, 254],\n",
              "         [254, 254, 254]],\n",
              "\n",
              "        ...,\n",
              "\n",
              "        [[113, 120, 112],\n",
              "         [111, 118, 111],\n",
              "         [105, 112, 106],\n",
              "         ...,\n",
              "         [ 72,  81,  80],\n",
              "         [ 72,  80,  79],\n",
              "         [ 72,  80,  79]],\n",
              "\n",
              "        [[111, 118, 110],\n",
              "         [104, 111, 104],\n",
              "         [ 99, 106,  98],\n",
              "         ...,\n",
              "         [ 68,  75,  73],\n",
              "         [ 70,  76,  75],\n",
              "         [ 78,  84,  82]],\n",
              "\n",
              "        [[106, 113, 105],\n",
              "         [ 99, 106,  98],\n",
              "         [ 95, 102,  94],\n",
              "         ...,\n",
              "         [ 78,  85,  83],\n",
              "         [ 79,  85,  83],\n",
              "         [ 80,  86,  84]]],\n",
              "\n",
              "\n",
              "       [[[ 28,  25,  10],\n",
              "         [ 37,  34,  19],\n",
              "         [ 38,  35,  20],\n",
              "         ...,\n",
              "         [ 76,  67,  39],\n",
              "         [ 81,  72,  43],\n",
              "         [ 85,  76,  47]],\n",
              "\n",
              "        [[ 33,  28,  13],\n",
              "         [ 34,  30,  14],\n",
              "         [ 32,  27,  12],\n",
              "         ...,\n",
              "         [ 95,  82,  55],\n",
              "         [ 96,  82,  56],\n",
              "         [ 85,  72,  45]],\n",
              "\n",
              "        [[ 39,  32,  15],\n",
              "         [ 40,  33,  17],\n",
              "         [ 57,  50,  33],\n",
              "         ...,\n",
              "         [ 93,  76,  52],\n",
              "         [107,  89,  66],\n",
              "         [ 95,  77,  54]],\n",
              "\n",
              "        ...,\n",
              "\n",
              "        [[ 83,  73,  52],\n",
              "         [ 87,  77,  56],\n",
              "         [ 84,  74,  52],\n",
              "         ...,\n",
              "         [ 99,  93,  70],\n",
              "         [ 90,  84,  61],\n",
              "         [ 81,  75,  52]],\n",
              "\n",
              "        [[ 88,  72,  51],\n",
              "         [ 90,  74,  52],\n",
              "         [ 93,  77,  56],\n",
              "         ...,\n",
              "         [ 80,  74,  53],\n",
              "         [ 76,  70,  49],\n",
              "         [ 82,  76,  55]],\n",
              "\n",
              "        [[ 97,  78,  56],\n",
              "         [ 94,  75,  53],\n",
              "         [ 93,  75,  53],\n",
              "         ...,\n",
              "         [ 54,  47,  28],\n",
              "         [ 63,  56,  37],\n",
              "         [ 72,  65,  46]]],\n",
              "\n",
              "\n",
              "       [[[170, 180, 198],\n",
              "         [168, 178, 196],\n",
              "         [177, 185, 203],\n",
              "         ...,\n",
              "         [162, 179, 215],\n",
              "         [158, 178, 214],\n",
              "         [157, 177, 212]],\n",
              "\n",
              "        [[168, 181, 198],\n",
              "         [172, 185, 201],\n",
              "         [171, 183, 200],\n",
              "         ...,\n",
              "         [159, 177, 212],\n",
              "         [156, 176, 211],\n",
              "         [154, 174, 209]],\n",
              "\n",
              "        [[154, 170, 186],\n",
              "         [149, 165, 181],\n",
              "         [129, 144, 162],\n",
              "         ...,\n",
              "         [161, 178, 214],\n",
              "         [157, 177, 212],\n",
              "         [154, 174, 209]],\n",
              "\n",
              "        ...,\n",
              "\n",
              "        [[ 74,  84,  80],\n",
              "         [ 76,  85,  81],\n",
              "         [ 78,  85,  82],\n",
              "         ...,\n",
              "         [ 71,  75,  78],\n",
              "         [ 68,  72,  75],\n",
              "         [ 61,  65,  68]],\n",
              "\n",
              "        [[ 68,  76,  77],\n",
              "         [ 69,  77,  78],\n",
              "         [ 72,  79,  78],\n",
              "         ...,\n",
              "         [ 76,  80,  83],\n",
              "         [ 71,  75,  78],\n",
              "         [ 71,  75,  78]],\n",
              "\n",
              "        [[ 67,  75,  78],\n",
              "         [ 68,  76,  79],\n",
              "         [ 69,  75,  76],\n",
              "         ...,\n",
              "         [ 75,  79,  82],\n",
              "         [ 71,  75,  78],\n",
              "         [ 73,  77,  80]]]], dtype=uint8)"
            ]
          },
          "metadata": {},
          "execution_count": 6
        }
      ],
      "source": [
        "X_train[:5]"
      ]
    },
    {
      "cell_type": "code",
      "execution_count": null,
      "metadata": {
        "colab": {
          "base_uri": "https://localhost:8080/"
        },
        "id": "VFDc-t4N0L6G",
        "outputId": "3669ac6c-a0d4-4449-8ee8-207b694b4181"
      },
      "outputs": [
        {
          "output_type": "execute_result",
          "data": {
            "text/plain": [
              "array([[6],\n",
              "       [9],\n",
              "       [9],\n",
              "       [4],\n",
              "       [1]], dtype=uint8)"
            ]
          },
          "metadata": {},
          "execution_count": 7
        }
      ],
      "source": [
        "y_train[:5]"
      ]
    },
    {
      "cell_type": "code",
      "execution_count": null,
      "metadata": {
        "colab": {
          "base_uri": "https://localhost:8080/"
        },
        "id": "WH-mA8Ff0ba3",
        "outputId": "e6daa345-1732-4744-de0c-21305784ed64"
      },
      "outputs": [
        {
          "output_type": "execute_result",
          "data": {
            "text/plain": [
              "2"
            ]
          },
          "metadata": {},
          "execution_count": 8
        }
      ],
      "source": [
        "y_train.ndim # this denotes it`s a 2D array"
      ]
    },
    {
      "cell_type": "code",
      "execution_count": null,
      "metadata": {
        "colab": {
          "base_uri": "https://localhost:8080/"
        },
        "id": "NF4jqm6T0gZO",
        "outputId": "064e4a2a-ef9e-4e0d-caab-4acd61f8761c"
      },
      "outputs": [
        {
          "output_type": "execute_result",
          "data": {
            "text/plain": [
              "array([6, 9, 9, 4, 1], dtype=uint8)"
            ]
          },
          "metadata": {},
          "execution_count": 9
        }
      ],
      "source": [
        "y_train = y_train.reshape(-1,) # convert to 1d\n",
        "y_train[:5]"
      ]
    },
    {
      "cell_type": "code",
      "execution_count": null,
      "metadata": {
        "colab": {
          "base_uri": "https://localhost:8080/"
        },
        "id": "tZUv1l-_0unX",
        "outputId": "5146deff-322e-4b9d-8890-fa51d35c27ee"
      },
      "outputs": [
        {
          "output_type": "execute_result",
          "data": {
            "text/plain": [
              "1"
            ]
          },
          "metadata": {},
          "execution_count": 10
        }
      ],
      "source": [
        "y_train.ndim # now it has become 1d"
      ]
    },
    {
      "cell_type": "code",
      "execution_count": null,
      "metadata": {
        "id": "hVdYgr8_0x9-"
      },
      "outputs": [],
      "source": [
        "y_test = y_test.reshape(-1,) # re-shape the y axis as well"
      ]
    },
    {
      "cell_type": "code",
      "execution_count": null,
      "metadata": {
        "id": "xg86dsR_1Ee-"
      },
      "outputs": [],
      "source": [
        "classes = [\"airplane\",\"automobile\",\"bird\",\"cat\",\"deer\",\"dog\",\"frog\",\"horse\",\"ship\",\"truck\"]"
      ]
    },
    {
      "cell_type": "code",
      "execution_count": null,
      "metadata": {
        "id": "LdGTWIQB1hSt"
      },
      "outputs": [],
      "source": [
        "def plot_sample(X, y, index):\n",
        "  plt.figure(figsize = (15,2))\n",
        "  plt.imshow(X[index])\n",
        "  plt.xlabel(classes[y[index]])\n"
      ]
    },
    {
      "cell_type": "code",
      "execution_count": null,
      "metadata": {
        "colab": {
          "base_uri": "https://localhost:8080/",
          "height": 237
        },
        "id": "oEs-cnUZ16-t",
        "outputId": "fe8a5684-4f4f-4f5c-cdce-f85a09322071"
      },
      "outputs": [
        {
          "output_type": "display_data",
          "data": {
            "text/plain": [
              "<Figure size 1500x200 with 1 Axes>"
            ],
            "image/png": "[encoded data removed]"
          },
          "metadata": {}
        }
      ],
      "source": [
        "plot_sample(X_train, y_train, 225)"
      ]
    },
    {
      "cell_type": "code",
      "execution_count": null,
      "metadata": {
        "colab": {
          "base_uri": "https://localhost:8080/",
          "height": 237
        },
        "id": "DxiScxLr2EHl",
        "outputId": "78ef2192-06bf-4401-d867-1087c79b7694"
      },
      "outputs": [
        {
          "output_type": "display_data",
          "data": {
            "text/plain": [
              "<Figure size 1500x200 with 1 Axes>"
            ],
            "image/png": "[encoded data removed]"
          },
          "metadata": {}
        }
      ],
      "source": [
        "plot_sample(X_train, y_train, 45021)"
      ]
    },
    {
      "cell_type": "code",
      "execution_count": null,
      "metadata": {
        "id": "ovRWbMuX2NLn"
      },
      "outputs": [],
      "source": [
        "\n",
        "# normalize training data\n",
        "X_train = X_train / 255.0\n",
        "X_test = X_test / 255.0"
      ]
    },
    {
      "cell_type": "code",
      "execution_count": null,
      "metadata": {
        "colab": {
          "base_uri": "https://localhost:8080/"
        },
        "id": "umAfPHp_2W_e",
        "outputId": "b2ffe45a-0507-4e40-abca-093ed49b31bd"
      },
      "outputs": [
        {
          "output_type": "stream",
          "name": "stdout",
          "text": [
            "Epoch 1/5\n",
            "1563/1563 [==============================] - 132s 84ms/step - loss: 1.8120 - accuracy: 0.3544\n",
            "Epoch 2/5\n",
            "1563/1563 [==============================] - 127s 81ms/step - loss: 1.6240 - accuracy: 0.4268\n",
            "Epoch 3/5\n",
            "1563/1563 [==============================] - 126s 81ms/step - loss: 1.5416 - accuracy: 0.4557\n",
            "Epoch 4/5\n",
            "1563/1563 [==============================] - 133s 85ms/step - loss: 1.4823 - accuracy: 0.4767\n",
            "Epoch 5/5\n",
            "1563/1563 [==============================] - 134s 85ms/step - loss: 1.4319 - accuracy: 0.4938\n"
          ]
        },
        {
          "output_type": "execute_result",
          "data": {
            "text/plain": [
              "<keras.src.callbacks.History at 0x7a12873720b0>"
            ]
          },
          "metadata": {},
          "execution_count": 17
        }
      ],
      "source": [
        "# simple ANN - accuracy is low compared to CNN\n",
        "ann = models.Sequential([\n",
        "        layers.Flatten(input_shape=(32,32,3)),\n",
        "        layers.Dense(3000, activation='relu'),\n",
        "        layers.Dense(1000, activation='relu'),\n",
        "        layers.Dense(10, activation='softmax')  # 10 classes to be outputed\n",
        "        ])\n",
        "ann.compile(optimizer='SGD',\n",
        "            loss='sparse_categorical_crossentropy',\n",
        "            metrics=['accuracy'])\n",
        "ann.fit(X_train, y_train, epochs=5)"
      ]
    },
    {
      "cell_type": "code",
      "source": [
        "# derive a clasification report for the 10 classes\n",
        "from sklearn.metrics import confusion_matrix , classification_report\n",
        "import numpy as np\n",
        "y_pred = ann.predict(X_test)\n",
        "y_pred_classes = [np.argmax(element) for element in y_pred]\n",
        "print(\"Classification Report:\", classification_report(y_test, y_pred_classes))"
      ],
      "metadata": {
        "colab": {
          "base_uri": "https://localhost:8080/"
        },
        "id": "yx8Bl8bpViqU",
        "outputId": "172ceebe-0599-4554-f273-5b1ce95f9fcc"
      },
      "execution_count": null,
      "outputs": [
        {
          "output_type": "stream",
          "name": "stdout",
          "text": [
            "313/313 [==============================] - 8s 26ms/step\n",
            "Classification Report:               precision    recall  f1-score   support\n",
            "\n",
            "           0       0.42      0.71      0.53      1000\n",
            "           1       0.61      0.61      0.61      1000\n",
            "           2       0.37      0.28      0.32      1000\n",
            "           3       0.35      0.28      0.31      1000\n",
            "           4       0.48      0.24      0.32      1000\n",
            "           5       0.40      0.35      0.37      1000\n",
            "           6       0.34      0.84      0.48      1000\n",
            "           7       0.75      0.35      0.48      1000\n",
            "           8       0.73      0.46      0.56      1000\n",
            "           9       0.62      0.50      0.55      1000\n",
            "\n",
            "    accuracy                           0.46     10000\n",
            "   macro avg       0.51      0.46      0.45     10000\n",
            "weighted avg       0.51      0.46      0.45     10000\n",
            "\n"
          ]
        }
      ]
    },
    {
      "cell_type": "code",
      "source": [
        "# define high accurate CNN model\n",
        "cnn = models.Sequential([\n",
        "    layers.Conv2D(filters=32, kernel_size=(3, 3), activation='relu', input_shape=(32, 32, 3)),\n",
        "    layers.MaxPooling2D((2, 2)),\n",
        "    layers.Conv2D(filters=64, kernel_size=(3, 3), activation='relu'),\n",
        "    layers.MaxPooling2D((2, 2)),\n",
        "    layers.Flatten(),\n",
        "    layers.Dense(64, activation='relu'),\n",
        "    layers.Dense(10, activation='softmax')\n",
        "    ])"
      ],
      "metadata": {
        "id": "JSsEXMRvWYC9"
      },
      "execution_count": null,
      "outputs": []
    },
    {
      "cell_type": "code",
      "source": [
        "cnn.compile(optimizer='adam',\n",
        "             loss='sparse_categorical_crossentropy',\n",
        "            metrics=['accuracy'])"
      ],
      "metadata": {
        "id": "P_BVK7yOXFRe"
      },
      "execution_count": null,
      "outputs": []
    },
    {
      "cell_type": "code",
      "source": [
        "cnn.fit(X_train, y_train, epochs=10)"
      ],
      "metadata": {
        "colab": {
          "base_uri": "https://localhost:8080/"
        },
        "id": "Xva7cCsjXvCN",
        "outputId": "19106aa5-7a4a-4ee5-b8ef-7d237adcb989"
      },
      "execution_count": null,
      "outputs": [
        {
          "output_type": "stream",
          "name": "stdout",
          "text": [
            "Epoch 1/10\n",
            "1563/1563 [==============================] - 59s 35ms/step - loss: 1.4396 - accuracy: 0.4842\n",
            "Epoch 2/10\n",
            "1563/1563 [==============================] - 54s 35ms/step - loss: 1.0972 - accuracy: 0.6164\n",
            "Epoch 3/10\n",
            "1563/1563 [==============================] - 54s 35ms/step - loss: 0.9754 - accuracy: 0.6620\n",
            "Epoch 4/10\n",
            "1563/1563 [==============================] - 54s 34ms/step - loss: 0.8895 - accuracy: 0.6915\n",
            "Epoch 5/10\n",
            "1563/1563 [==============================] - 53s 34ms/step - loss: 0.8261 - accuracy: 0.7148\n",
            "Epoch 6/10\n",
            "1563/1563 [==============================] - 54s 34ms/step - loss: 0.7669 - accuracy: 0.7318\n",
            "Epoch 7/10\n",
            "1563/1563 [==============================] - 54s 35ms/step - loss: 0.7160 - accuracy: 0.7525\n",
            "Epoch 8/10\n",
            "1563/1563 [==============================] - 53s 34ms/step - loss: 0.6716 - accuracy: 0.7654\n",
            "Epoch 9/10\n",
            "1563/1563 [==============================] - 53s 34ms/step - loss: 0.6251 - accuracy: 0.7820\n",
            "Epoch 10/10\n",
            "1563/1563 [==============================] - 53s 34ms/step - loss: 0.5888 - accuracy: 0.7920\n"
          ]
        },
        {
          "output_type": "execute_result",
          "data": {
            "text/plain": [
              "<keras.src.callbacks.History at 0x7a12767682e0>"
            ]
          },
          "metadata": {},
          "execution_count": 21
        }
      ]
    },
    {
      "cell_type": "code",
      "source": [
        "cnn.evaluate(X_test,y_test)"
      ],
      "metadata": {
        "colab": {
          "base_uri": "https://localhost:8080/"
        },
        "id": "iv7Jbm-2aMfu",
        "outputId": "4bf13688-5999-44ed-cb02-24aa7a4d6da4"
      },
      "execution_count": null,
      "outputs": [
        {
          "output_type": "stream",
          "name": "stdout",
          "text": [
            "313/313 [==============================] - 5s 14ms/step - loss: 0.9562 - accuracy: 0.6918\n"
          ]
        },
        {
          "output_type": "execute_result",
          "data": {
            "text/plain": [
              "[0.9562211632728577, 0.6917999982833862]"
            ]
          },
          "metadata": {},
          "execution_count": 22
        }
      ]
    },
    {
      "cell_type": "code",
      "source": [
        "y_pred = cnn.predict(X_test)\n",
        "y_pred[:5]"
      ],
      "metadata": {
        "colab": {
          "base_uri": "https://localhost:8080/"
        },
        "id": "U6x66ZuJaaDM",
        "outputId": "afc864c3-2202-4d94-e3c7-51759c4376a2"
      },
      "execution_count": null,
      "outputs": [
        {
          "output_type": "stream",
          "name": "stdout",
          "text": [
            "313/313 [==============================] - 7s 23ms/step\n"
          ]
        },
        {
          "output_type": "execute_result",
          "data": {
            "text/plain": [
              "array([[2.68910523e-03, 7.48206454e-04, 2.21462473e-02, 7.04739869e-01,\n",
              "        3.74599302e-04, 2.56964117e-01, 3.44234356e-03, 3.10387441e-05,\n",
              "        8.68433900e-03, 1.80134681e-04],\n",
              "       [2.11428287e-05, 1.97470933e-01, 3.92634865e-06, 1.08015673e-10,\n",
              "        1.79684694e-08, 9.93304328e-11, 1.77616099e-11, 2.03281628e-11,\n",
              "        8.02463412e-01, 4.05622814e-05],\n",
              "       [4.56380963e-01, 8.15618485e-02, 3.98353999e-03, 2.20674236e-04,\n",
              "        9.73937195e-03, 2.11004444e-04, 2.37160612e-06, 1.29073334e-03,\n",
              "        4.38032538e-01, 8.57693329e-03],\n",
              "       [9.88183677e-01, 3.07465019e-03, 3.12141655e-03, 1.66740701e-05,\n",
              "        1.38568832e-03, 9.28637405e-07, 1.39159920e-06, 6.77054868e-06,\n",
              "        4.18477738e-03, 2.41215621e-05],\n",
              "       [3.72931652e-07, 8.86740418e-06, 1.19915195e-02, 7.67086959e-03,\n",
              "        9.45202827e-01, 2.92299292e-03, 3.21728028e-02, 1.05897416e-05,\n",
              "        1.91138133e-05, 1.89346892e-07]], dtype=float32)"
            ]
          },
          "metadata": {},
          "execution_count": 23
        }
      ]
    },
    {
      "cell_type": "code",
      "source": [
        "y_classes = [np.argmax(element) for element in y_pred]\n",
        "y_classes[:5]"
      ],
      "metadata": {
        "colab": {
          "base_uri": "https://localhost:8080/"
        },
        "id": "IVdH5jzVawR9",
        "outputId": "8dc4174d-bdf3-4721-c35d-ce1fe3ab839b"
      },
      "execution_count": null,
      "outputs": [
        {
          "output_type": "execute_result",
          "data": {
            "text/plain": [
              "[3, 8, 0, 0, 4]"
            ]
          },
          "metadata": {},
          "execution_count": 24
        }
      ]
    },
    {
      "cell_type": "code",
      "source": [
        "y_test[:5]"
      ],
      "metadata": {
        "colab": {
          "base_uri": "https://localhost:8080/"
        },
        "id": "xHoLvpK4blV-",
        "outputId": "775d87c1-6517-40e2-f911-7289c3c42980"
      },
      "execution_count": null,
      "outputs": [
        {
          "output_type": "execute_result",
          "data": {
            "text/plain": [
              "array([3, 8, 8, 0, 6], dtype=uint8)"
            ]
          },
          "metadata": {},
          "execution_count": 25
        }
      ]
    },
    {
      "cell_type": "code",
      "source": [
        "plot_sample(X_test, y_test,3)"
      ],
      "metadata": {
        "colab": {
          "base_uri": "https://localhost:8080/",
          "height": 237
        },
        "id": "vOIv-70kbruH",
        "outputId": "4f9d6498-8eaf-4b2f-c905-fb745ac722ee"
      },
      "execution_count": null,
      "outputs": [
        {
          "output_type": "display_data",
          "data": {
            "text/plain": [
              "<Figure size 1500x200 with 1 Axes>"
            ],
            "image/png": "[encoded data removed]"
          },
          "metadata": {}
        }
      ]
    },
    {
      "cell_type": "code",
      "source": [
        "classes[y_classes[3]]"
      ],
      "metadata": {
        "colab": {
          "base_uri": "https://localhost:8080/",
          "height": 36
        },
        "id": "6wjc9HIpbtrl",
        "outputId": "79567c49-931d-4423-86f7-c8e7f7478619"
      },
      "execution_count": null,
      "outputs": [
        {
          "output_type": "execute_result",
          "data": {
            "text/plain": [
              "'airplane'"
            ],
            "application/vnd.google.colaboratory.intrinsic+json": {
              "type": "string"
            }
          },
          "metadata": {},
          "execution_count": 27
        }
      ]
    },
    {
      "cell_type": "code",
      "source": [],
      "metadata": {
        "id": "3MHCFTpGb8tf"
      },
      "execution_count": null,
      "outputs": []
    },
    {
      "cell_type": "code",
      "source": [
        "plot_sample(X_test, y_test,5)"
      ],
      "metadata": {
        "colab": {
          "base_uri": "https://localhost:8080/",
          "height": 237
        },
        "id": "y-TRxfjwb0DW",
        "outputId": "7f49ee16-76d0-4668-984e-4b5745e1f5a7"
      },
      "execution_count": null,
      "outputs": [
        {
          "output_type": "display_data",
          "data": {
            "text/plain": [
              "<Figure size 1500x200 with 1 Axes>"
            ],
            "image/png": "[encoded data removed]"
          },
          "metadata": {}
        }
      ]
    },
    {
      "cell_type": "code",
      "source": [
        "classes[y_classes[5]]"
      ],
      "metadata": {
        "colab": {
          "base_uri": "https://localhost:8080/",
          "height": 36
        },
        "id": "M9DxOM6vb-hO",
        "outputId": "0d22ece1-b898-481e-aa22-81e8685a3751"
      },
      "execution_count": null,
      "outputs": [
        {
          "output_type": "execute_result",
          "data": {
            "text/plain": [
              "'frog'"
            ],
            "application/vnd.google.colaboratory.intrinsic+json": {
              "type": "string"
            }
          },
          "metadata": {},
          "execution_count": 30
        }
      ]
    }
  ],
  "metadata": {
    "colab": {
      "provenance": []
    },
    "kernelspec": {
      "display_name": "Python 3",
      "name": "python3"
    },
    "language_info": {
      "name": "python"
    }
  },
  "nbformat": 4,
  "nbformat_minor": 0
}